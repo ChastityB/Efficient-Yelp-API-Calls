{
 "cells": [
  {
   "cell_type": "markdown",
   "id": "36c65371",
   "metadata": {},
   "source": [
    "# Efficient Yelp API Calls"
   ]
  },
  {
   "cell_type": "code",
   "execution_count": 1,
   "id": "1788f152",
   "metadata": {},
   "outputs": [],
   "source": [
    "#import necessary library\n",
    "import numpy as np\n",
    "import pandas as pd\n",
    "import matplotlib.pyplot as plt\n",
    "import seaborn as sns\n",
    "#additional imports\n",
    "import os, json, math, time\n",
    "from yelpapi import YelpAPI\n",
    "from tqdm.notebook import tqdm_notebook"
   ]
  },
  {
   "cell_type": "code",
   "execution_count": 2,
   "id": "84d43f15",
   "metadata": {},
   "outputs": [
    {
     "data": {
      "text/plain": [
       "dict_keys(['client-id', 'api-key'])"
      ]
     },
     "execution_count": 2,
     "metadata": {},
     "output_type": "execute_result"
    }
   ],
   "source": [
    "#Load in your API credentials using the JSON module\n",
    "#display what keys are in the dictionary\n",
    "with open ('/Users/chas/.secret/yelp_api.json') as f:\n",
    "    login = json.load(f)\n",
    "login.keys()"
   ]
  },
  {
   "cell_type": "code",
   "execution_count": 3,
   "id": "a9a93abe",
   "metadata": {},
   "outputs": [
    {
     "data": {
      "text/plain": [
       "<yelpapi.yelpapi.YelpAPI at 0x7fdd38608290>"
      ]
     },
     "execution_count": 3,
     "metadata": {},
     "output_type": "execute_result"
    }
   ],
   "source": [
    "#create an instance with the key\n",
    "yelp_api = YelpAPI(login['api-key'], timeout_s = 5.0)\n",
    "yelp_api"
   ]
  },
  {
   "cell_type": "code",
   "execution_count": 4,
   "id": "a2ee9b17",
   "metadata": {},
   "outputs": [],
   "source": [
    "#set our API call parametrs and filename before first call\n",
    "LOCATION = 'Manhattan, NY, 10010'\n",
    "TERM = 'Pizza'"
   ]
  },
  {
   "cell_type": "code",
   "execution_count": 5,
   "id": "1c4c3f11",
   "metadata": {},
   "outputs": [
    {
     "data": {
      "text/plain": [
       "'Data/results_in_progress_pizza.json'"
      ]
     },
     "execution_count": 5,
     "metadata": {},
     "output_type": "execute_result"
    }
   ],
   "source": [
    "#specify JSON_FILE filename\n",
    "#include the searchterms in the filename\n",
    "JSON_FILE = f\"Data/results_in_progress_pizza.json\"\n",
    "JSON_FILE"
   ]
  },
  {
   "cell_type": "code",
   "execution_count": 6,
   "id": "67136d06",
   "metadata": {},
   "outputs": [
    {
     "name": "stdout",
     "output_type": "stream",
     "text": [
      "[i] Data/results_in_progress_pizza.json not found. Saving empty list to file.\n"
     ]
    }
   ],
   "source": [
    "## Check if JSON_FILE exists\n",
    "file_exists = os.path.isfile(JSON_FILE)\n",
    "## If it does not exist: \n",
    "if file_exists == False:\n",
    "    \n",
    "    ## CREATE ANY NEEDED FOLDERS\n",
    "    # Get the Folder Name only\n",
    "    folder = os.path.dirname(JSON_FILE)\n",
    "    ## If JSON_FILE included a folder:\n",
    "    if len(folder)>0:\n",
    "        # create the folder\n",
    "        os.makedirs(folder,exist_ok=True)\n",
    "        \n",
    "        \n",
    "    ## INFORM USER AND SAVE EMPTY LIST\n",
    "    print(f\"[i] {JSON_FILE} not found. Saving empty list to file.\")\n",
    "    \n",
    "    \n",
    "    ## save the first page of results\n",
    "    with open(JSON_FILE,'w') as f:\n",
    "        json.dump([],f)  \n",
    "## If it exists, inform user\n",
    "else:\n",
    "    print(f\"[i] {JSON_FILE} already exists.\")"
   ]
  },
  {
   "cell_type": "code",
   "execution_count": 7,
   "id": "465a8efd",
   "metadata": {},
   "outputs": [
    {
     "name": "stdout",
     "output_type": "stream",
     "text": [
      "-0 previous results found.\n"
     ]
    }
   ],
   "source": [
    "#load previous results and use len of results for offset\n",
    "with open(JSON_FILE, 'r') as f:\n",
    "    previous_results = json.load(f)\n",
    "\n",
    "#set offset based on previous results\n",
    "n_results = len(previous_results)\n",
    "print(f'-{n_results} previous results found.')"
   ]
  },
  {
   "cell_type": "code",
   "execution_count": 8,
   "id": "f975d19c",
   "metadata": {},
   "outputs": [
    {
     "data": {
      "text/plain": [
       "dict_keys(['businesses', 'total', 'region'])"
      ]
     },
     "execution_count": 8,
     "metadata": {},
     "output_type": "execute_result"
    }
   ],
   "source": [
    "#use our yelp_api variable's search query method to perform\n",
    "#our API call\n",
    "results = yelp_api.search_query(location=LOCATION, term=TERM,\n",
    "                               offset=n_results)\n",
    "results.keys()"
   ]
  },
  {
   "cell_type": "code",
   "execution_count": 9,
   "id": "7d7d1032",
   "metadata": {},
   "outputs": [
    {
     "data": {
      "text/plain": [
       "1700"
      ]
     },
     "execution_count": 9,
     "metadata": {},
     "output_type": "execute_result"
    }
   ],
   "source": [
    "#how many results in total?\n",
    "total_results = results['total']\n",
    "total_results"
   ]
  },
  {
   "cell_type": "code",
   "execution_count": 10,
   "id": "71e791c7",
   "metadata": {},
   "outputs": [
    {
     "data": {
      "text/plain": [
       "20"
      ]
     },
     "execution_count": 10,
     "metadata": {},
     "output_type": "execute_result"
    }
   ],
   "source": [
    "#how many did we get details for?\n",
    "results_per_page = len(results['businesses'])\n",
    "results_per_page"
   ]
  },
  {
   "cell_type": "code",
   "execution_count": 11,
   "id": "132fc1b5",
   "metadata": {},
   "outputs": [
    {
     "data": {
      "text/plain": [
       "85"
      ]
     },
     "execution_count": 11,
     "metadata": {},
     "output_type": "execute_result"
    }
   ],
   "source": [
    "#use math.ceil to round up for the total number of page results\n",
    "n_pages = math.ceil((results['total']-n_results)/results_per_page)\n",
    "n_pages"
   ]
  },
  {
   "cell_type": "code",
   "execution_count": 12,
   "id": "e60dc54c",
   "metadata": {},
   "outputs": [],
   "source": [
    "#join new results with old list with extend and save to file\n",
    "previous_results.extend(results['businesses'])\n",
    "with open(JSON_FILE, 'w') as f:\n",
    "    json.dump(previous_results, f)"
   ]
  },
  {
   "cell_type": "code",
   "execution_count": 13,
   "id": "e66bf331",
   "metadata": {},
   "outputs": [
    {
     "data": {
      "application/vnd.jupyter.widget-view+json": {
       "model_id": "52bd1b17ce44493f9849426cda76a624",
       "version_major": 2,
       "version_minor": 0
      },
      "text/plain": [
       "  0%|          | 0/85 [00:00<?, ?it/s]"
      ]
     },
     "metadata": {},
     "output_type": "display_data"
    }
   ],
   "source": [
    "#set up progress bar in loop\n",
    "for i in tqdm_notebook(range(n_pages)):\n",
    "    time.sleep(.2) #adds 200ms pause"
   ]
  },
  {
   "cell_type": "code",
   "execution_count": 14,
   "id": "3ae0e39d",
   "metadata": {},
   "outputs": [
    {
     "data": {
      "application/vnd.jupyter.widget-view+json": {
       "model_id": "9128f02bcc22465d8f1b6547b581f6c1",
       "version_major": 2,
       "version_minor": 0
      },
      "text/plain": [
       "  0%|          | 0/85 [00:00<?, ?it/s]"
      ]
     },
     "metadata": {},
     "output_type": "display_data"
    },
    {
     "name": "stdout",
     "output_type": "stream",
     "text": [
      "[!] ERROR:  VALIDATION_ERROR: Too many results requested, limit+offset must be <= 1000.\n",
      "Loop completed.\n"
     ]
    }
   ],
   "source": [
    "#for loop to call each page\n",
    "for i in tqdm_notebook(range(1, n_pages+1)):\n",
    "    try:\n",
    "        time.sleep(.2)\n",
    "        #read results in. progress file and check length\n",
    "        with open (JSON_FILE, 'r') as f:\n",
    "            previous_results = json.load(f)\n",
    "        #sae number of results to use as offset\n",
    "        n_results = len(previous_results)\n",
    "        #use n_results as offset\n",
    "        results = yelp_api.search_query(location = LOCATION,\n",
    "                                       term = TERM,\n",
    "                                       offset = n_results+1)\n",
    "        #append new results and save to file\n",
    "        previous_results.extend(results['businesses'])\n",
    "        #disply previous results\n",
    "        with open (JSON_FILE, 'w') as f:\n",
    "            json.dump(previous_results, f)\n",
    "    except Exception as e: \n",
    "        print('[!] ERROR: ', e)\n",
    "        break\n",
    "print('Loop completed.')"
   ]
  },
  {
   "cell_type": "code",
   "execution_count": 15,
   "id": "c06b9951",
   "metadata": {},
   "outputs": [
    {
     "data": {
      "text/html": [
       "<div>\n",
       "<style scoped>\n",
       "    .dataframe tbody tr th:only-of-type {\n",
       "        vertical-align: middle;\n",
       "    }\n",
       "\n",
       "    .dataframe tbody tr th {\n",
       "        vertical-align: top;\n",
       "    }\n",
       "\n",
       "    .dataframe thead th {\n",
       "        text-align: right;\n",
       "    }\n",
       "</style>\n",
       "<table border=\"1\" class=\"dataframe\">\n",
       "  <thead>\n",
       "    <tr style=\"text-align: right;\">\n",
       "      <th></th>\n",
       "      <th>id</th>\n",
       "      <th>alias</th>\n",
       "      <th>name</th>\n",
       "      <th>image_url</th>\n",
       "      <th>is_closed</th>\n",
       "      <th>url</th>\n",
       "      <th>review_count</th>\n",
       "      <th>categories</th>\n",
       "      <th>rating</th>\n",
       "      <th>coordinates</th>\n",
       "      <th>transactions</th>\n",
       "      <th>price</th>\n",
       "      <th>location</th>\n",
       "      <th>phone</th>\n",
       "      <th>display_phone</th>\n",
       "      <th>distance</th>\n",
       "    </tr>\n",
       "  </thead>\n",
       "  <tbody>\n",
       "    <tr>\n",
       "      <th>0</th>\n",
       "      <td>vVVmHacu2YAxKfpIjhfd1g</td>\n",
       "      <td>norma-new-york-5</td>\n",
       "      <td>Norma</td>\n",
       "      <td>https://s3-media3.fl.yelpcdn.com/bphoto/qJKt5l...</td>\n",
       "      <td>False</td>\n",
       "      <td>https://www.yelp.com/biz/norma-new-york-5?adju...</td>\n",
       "      <td>516</td>\n",
       "      <td>[{'alias': 'italian', 'title': 'Italian'}, {'a...</td>\n",
       "      <td>4.5</td>\n",
       "      <td>{'latitude': 40.743553, 'longitude': -73.980026}</td>\n",
       "      <td>[pickup, delivery]</td>\n",
       "      <td>$$</td>\n",
       "      <td>{'address1': '438 3rd Ave', 'address2': None, ...</td>\n",
       "      <td>+12128890600</td>\n",
       "      <td>(212) 889-0600</td>\n",
       "      <td>575.817909</td>\n",
       "    </tr>\n",
       "    <tr>\n",
       "      <th>1</th>\n",
       "      <td>kIm0oeOaVfC9-2flLPVklA</td>\n",
       "      <td>patrizias-pizza-and-pasta-new-york</td>\n",
       "      <td>Patrizia's Pizza and Pasta</td>\n",
       "      <td>https://s3-media1.fl.yelpcdn.com/bphoto/HG4eRB...</td>\n",
       "      <td>False</td>\n",
       "      <td>https://www.yelp.com/biz/patrizias-pizza-and-p...</td>\n",
       "      <td>695</td>\n",
       "      <td>[{'alias': 'italian', 'title': 'Italian'}, {'a...</td>\n",
       "      <td>4.0</td>\n",
       "      <td>{'latitude': 40.7398415, 'longitude': -73.9792...</td>\n",
       "      <td>[pickup, delivery]</td>\n",
       "      <td>$$</td>\n",
       "      <td>{'address1': '462-466 2nd Ave', 'address2': ''...</td>\n",
       "      <td>+12125979999</td>\n",
       "      <td>(212) 597-9999</td>\n",
       "      <td>331.851292</td>\n",
       "    </tr>\n",
       "    <tr>\n",
       "      <th>2</th>\n",
       "      <td>zj8Lq1T8KIC5zwFief15jg</td>\n",
       "      <td>prince-street-pizza-new-york-2</td>\n",
       "      <td>Prince Street Pizza</td>\n",
       "      <td>https://s3-media3.fl.yelpcdn.com/bphoto/ZAukOy...</td>\n",
       "      <td>False</td>\n",
       "      <td>https://www.yelp.com/biz/prince-street-pizza-n...</td>\n",
       "      <td>4286</td>\n",
       "      <td>[{'alias': 'pizza', 'title': 'Pizza'}, {'alias...</td>\n",
       "      <td>4.5</td>\n",
       "      <td>{'latitude': 40.72308755605564, 'longitude': -...</td>\n",
       "      <td>[pickup, delivery]</td>\n",
       "      <td>$</td>\n",
       "      <td>{'address1': '27 Prince St', 'address2': None,...</td>\n",
       "      <td>+12129664100</td>\n",
       "      <td>(212) 966-4100</td>\n",
       "      <td>2014.210598</td>\n",
       "    </tr>\n",
       "    <tr>\n",
       "      <th>3</th>\n",
       "      <td>0UdC0VYX6aAvLiOcpR4MVQ</td>\n",
       "      <td>joes-pizza-new-york-7</td>\n",
       "      <td>Joe's Pizza</td>\n",
       "      <td>https://s3-media3.fl.yelpcdn.com/bphoto/BTCcvl...</td>\n",
       "      <td>False</td>\n",
       "      <td>https://www.yelp.com/biz/joes-pizza-new-york-7...</td>\n",
       "      <td>977</td>\n",
       "      <td>[{'alias': 'pizza', 'title': 'Pizza'}]</td>\n",
       "      <td>4.0</td>\n",
       "      <td>{'latitude': 40.73331, 'longitude': -73.98763}</td>\n",
       "      <td>[pickup, delivery]</td>\n",
       "      <td>$</td>\n",
       "      <td>{'address1': '150 E 14th St', 'address2': '', ...</td>\n",
       "      <td>+12123889474</td>\n",
       "      <td>(212) 388-9474</td>\n",
       "      <td>748.773398</td>\n",
       "    </tr>\n",
       "    <tr>\n",
       "      <th>4</th>\n",
       "      <td>J38XGzriEkMsDfCMt6et_g</td>\n",
       "      <td>vezzo-nycthincrust-pizza-new-york-2</td>\n",
       "      <td>VEZZO NYCThinCrust Pizza</td>\n",
       "      <td>https://s3-media2.fl.yelpcdn.com/bphoto/UaxaZP...</td>\n",
       "      <td>False</td>\n",
       "      <td>https://www.yelp.com/biz/vezzo-nycthincrust-pi...</td>\n",
       "      <td>1330</td>\n",
       "      <td>[{'alias': 'pizza', 'title': 'Pizza'}, {'alias...</td>\n",
       "      <td>4.0</td>\n",
       "      <td>{'latitude': 40.744435447210506, 'longitude': ...</td>\n",
       "      <td>[pickup, delivery]</td>\n",
       "      <td>$$</td>\n",
       "      <td>{'address1': '178 Lexington Ave', 'address2': ...</td>\n",
       "      <td>+12128398300</td>\n",
       "      <td>(212) 839-8300</td>\n",
       "      <td>629.840528</td>\n",
       "    </tr>\n",
       "  </tbody>\n",
       "</table>\n",
       "</div>"
      ],
      "text/plain": [
       "                       id                                alias  \\\n",
       "0  vVVmHacu2YAxKfpIjhfd1g                     norma-new-york-5   \n",
       "1  kIm0oeOaVfC9-2flLPVklA   patrizias-pizza-and-pasta-new-york   \n",
       "2  zj8Lq1T8KIC5zwFief15jg       prince-street-pizza-new-york-2   \n",
       "3  0UdC0VYX6aAvLiOcpR4MVQ                joes-pizza-new-york-7   \n",
       "4  J38XGzriEkMsDfCMt6et_g  vezzo-nycthincrust-pizza-new-york-2   \n",
       "\n",
       "                         name  \\\n",
       "0                       Norma   \n",
       "1  Patrizia's Pizza and Pasta   \n",
       "2         Prince Street Pizza   \n",
       "3                 Joe's Pizza   \n",
       "4    VEZZO NYCThinCrust Pizza   \n",
       "\n",
       "                                           image_url  is_closed  \\\n",
       "0  https://s3-media3.fl.yelpcdn.com/bphoto/qJKt5l...      False   \n",
       "1  https://s3-media1.fl.yelpcdn.com/bphoto/HG4eRB...      False   \n",
       "2  https://s3-media3.fl.yelpcdn.com/bphoto/ZAukOy...      False   \n",
       "3  https://s3-media3.fl.yelpcdn.com/bphoto/BTCcvl...      False   \n",
       "4  https://s3-media2.fl.yelpcdn.com/bphoto/UaxaZP...      False   \n",
       "\n",
       "                                                 url  review_count  \\\n",
       "0  https://www.yelp.com/biz/norma-new-york-5?adju...           516   \n",
       "1  https://www.yelp.com/biz/patrizias-pizza-and-p...           695   \n",
       "2  https://www.yelp.com/biz/prince-street-pizza-n...          4286   \n",
       "3  https://www.yelp.com/biz/joes-pizza-new-york-7...           977   \n",
       "4  https://www.yelp.com/biz/vezzo-nycthincrust-pi...          1330   \n",
       "\n",
       "                                          categories  rating  \\\n",
       "0  [{'alias': 'italian', 'title': 'Italian'}, {'a...     4.5   \n",
       "1  [{'alias': 'italian', 'title': 'Italian'}, {'a...     4.0   \n",
       "2  [{'alias': 'pizza', 'title': 'Pizza'}, {'alias...     4.5   \n",
       "3             [{'alias': 'pizza', 'title': 'Pizza'}]     4.0   \n",
       "4  [{'alias': 'pizza', 'title': 'Pizza'}, {'alias...     4.0   \n",
       "\n",
       "                                         coordinates        transactions  \\\n",
       "0   {'latitude': 40.743553, 'longitude': -73.980026}  [pickup, delivery]   \n",
       "1  {'latitude': 40.7398415, 'longitude': -73.9792...  [pickup, delivery]   \n",
       "2  {'latitude': 40.72308755605564, 'longitude': -...  [pickup, delivery]   \n",
       "3     {'latitude': 40.73331, 'longitude': -73.98763}  [pickup, delivery]   \n",
       "4  {'latitude': 40.744435447210506, 'longitude': ...  [pickup, delivery]   \n",
       "\n",
       "  price                                           location         phone  \\\n",
       "0    $$  {'address1': '438 3rd Ave', 'address2': None, ...  +12128890600   \n",
       "1    $$  {'address1': '462-466 2nd Ave', 'address2': ''...  +12125979999   \n",
       "2     $  {'address1': '27 Prince St', 'address2': None,...  +12129664100   \n",
       "3     $  {'address1': '150 E 14th St', 'address2': '', ...  +12123889474   \n",
       "4    $$  {'address1': '178 Lexington Ave', 'address2': ...  +12128398300   \n",
       "\n",
       "    display_phone     distance  \n",
       "0  (212) 889-0600   575.817909  \n",
       "1  (212) 597-9999   331.851292  \n",
       "2  (212) 966-4100  2014.210598  \n",
       "3  (212) 388-9474   748.773398  \n",
       "4  (212) 839-8300   629.840528  "
      ]
     },
     "metadata": {},
     "output_type": "display_data"
    },
    {
     "data": {
      "text/html": [
       "<div>\n",
       "<style scoped>\n",
       "    .dataframe tbody tr th:only-of-type {\n",
       "        vertical-align: middle;\n",
       "    }\n",
       "\n",
       "    .dataframe tbody tr th {\n",
       "        vertical-align: top;\n",
       "    }\n",
       "\n",
       "    .dataframe thead th {\n",
       "        text-align: right;\n",
       "    }\n",
       "</style>\n",
       "<table border=\"1\" class=\"dataframe\">\n",
       "  <thead>\n",
       "    <tr style=\"text-align: right;\">\n",
       "      <th></th>\n",
       "      <th>id</th>\n",
       "      <th>alias</th>\n",
       "      <th>name</th>\n",
       "      <th>image_url</th>\n",
       "      <th>is_closed</th>\n",
       "      <th>url</th>\n",
       "      <th>review_count</th>\n",
       "      <th>categories</th>\n",
       "      <th>rating</th>\n",
       "      <th>coordinates</th>\n",
       "      <th>transactions</th>\n",
       "      <th>price</th>\n",
       "      <th>location</th>\n",
       "      <th>phone</th>\n",
       "      <th>display_phone</th>\n",
       "      <th>distance</th>\n",
       "    </tr>\n",
       "  </thead>\n",
       "  <tbody>\n",
       "    <tr>\n",
       "      <th>975</th>\n",
       "      <td>fjGTnLTvt64N8sk0_MZcGA</td>\n",
       "      <td>8th-street-winecellar-new-york-2</td>\n",
       "      <td>8th Street Winecellar</td>\n",
       "      <td>https://s3-media4.fl.yelpcdn.com/bphoto/IsRfNy...</td>\n",
       "      <td>False</td>\n",
       "      <td>https://www.yelp.com/biz/8th-street-winecellar...</td>\n",
       "      <td>362</td>\n",
       "      <td>[{'alias': 'wine_bars', 'title': 'Wine Bars'},...</td>\n",
       "      <td>4.0</td>\n",
       "      <td>{'latitude': 40.7327981, 'longitude': -73.9978...</td>\n",
       "      <td>[delivery]</td>\n",
       "      <td>$$</td>\n",
       "      <td>{'address1': '28 W 8th St', 'address2': '', 'a...</td>\n",
       "      <td>+12122609463</td>\n",
       "      <td>(212) 260-9463</td>\n",
       "      <td>1435.947600</td>\n",
       "    </tr>\n",
       "    <tr>\n",
       "      <th>976</th>\n",
       "      <td>auQNB6NU6gkL6BrePqyZpQ</td>\n",
       "      <td>one-twenty-two-new-york</td>\n",
       "      <td>One Twenty-Two</td>\n",
       "      <td>https://s3-media3.fl.yelpcdn.com/bphoto/BpnECJ...</td>\n",
       "      <td>False</td>\n",
       "      <td>https://www.yelp.com/biz/one-twenty-two-new-yo...</td>\n",
       "      <td>2</td>\n",
       "      <td>[{'alias': 'pizza', 'title': 'Pizza'}]</td>\n",
       "      <td>3.5</td>\n",
       "      <td>{'latitude': 40.72707, 'longitude': -73.985288}</td>\n",
       "      <td>[]</td>\n",
       "      <td>$$</td>\n",
       "      <td>{'address1': '122 1st Ave', 'address2': '', 'a...</td>\n",
       "      <td>+12125332809</td>\n",
       "      <td>(212) 533-2809</td>\n",
       "      <td>1328.572642</td>\n",
       "    </tr>\n",
       "    <tr>\n",
       "      <th>977</th>\n",
       "      <td>ehUuSk5gPTCQmwS_ubgKRA</td>\n",
       "      <td>upstate-craft-beer-and-oyster-bar-new-york-4</td>\n",
       "      <td>Upstate Craft Beer &amp; Oyster Bar</td>\n",
       "      <td>https://s3-media2.fl.yelpcdn.com/bphoto/V3pVDP...</td>\n",
       "      <td>False</td>\n",
       "      <td>https://www.yelp.com/biz/upstate-craft-beer-an...</td>\n",
       "      <td>1964</td>\n",
       "      <td>[{'alias': 'seafood', 'title': 'Seafood'}]</td>\n",
       "      <td>4.5</td>\n",
       "      <td>{'latitude': 40.726373, 'longitude': -73.986557}</td>\n",
       "      <td>[restaurant_reservation, delivery]</td>\n",
       "      <td>$$</td>\n",
       "      <td>{'address1': '95 1st Ave', 'address2': None, '...</td>\n",
       "      <td>+16467915400</td>\n",
       "      <td>(646) 791-5400</td>\n",
       "      <td>1425.083020</td>\n",
       "    </tr>\n",
       "    <tr>\n",
       "      <th>978</th>\n",
       "      <td>w6rW21MYzwysEbCTosfD2w</td>\n",
       "      <td>holyland-market-new-york</td>\n",
       "      <td>Holyland Market</td>\n",
       "      <td>https://s3-media2.fl.yelpcdn.com/bphoto/lPqA0h...</td>\n",
       "      <td>False</td>\n",
       "      <td>https://www.yelp.com/biz/holyland-market-new-y...</td>\n",
       "      <td>48</td>\n",
       "      <td>[{'alias': 'importedfood', 'title': 'Imported ...</td>\n",
       "      <td>4.5</td>\n",
       "      <td>{'latitude': 40.72689, 'longitude': -73.98385}</td>\n",
       "      <td>[pickup, delivery]</td>\n",
       "      <td>$$</td>\n",
       "      <td>{'address1': '122 St Marks Pl', 'address2': ''...</td>\n",
       "      <td>+12124774440</td>\n",
       "      <td>(212) 477-4440</td>\n",
       "      <td>1334.075947</td>\n",
       "    </tr>\n",
       "    <tr>\n",
       "      <th>979</th>\n",
       "      <td>kPOPOTorOJeYkQNB9AgjkA</td>\n",
       "      <td>cafe-900-new-york</td>\n",
       "      <td>Cafe 900</td>\n",
       "      <td></td>\n",
       "      <td>False</td>\n",
       "      <td>https://www.yelp.com/biz/cafe-900-new-york?adj...</td>\n",
       "      <td>1</td>\n",
       "      <td>[{'alias': 'coffee', 'title': 'Coffee &amp; Tea'}]</td>\n",
       "      <td>5.0</td>\n",
       "      <td>{'latitude': 40.75424, 'longitude': -73.96567}</td>\n",
       "      <td>[]</td>\n",
       "      <td>NaN</td>\n",
       "      <td>{'address1': '900 1st Ave', 'address2': '', 'a...</td>\n",
       "      <td>+12128290721</td>\n",
       "      <td>(212) 829-0721</td>\n",
       "      <td>2236.335234</td>\n",
       "    </tr>\n",
       "  </tbody>\n",
       "</table>\n",
       "</div>"
      ],
      "text/plain": [
       "                         id                                         alias  \\\n",
       "975  fjGTnLTvt64N8sk0_MZcGA              8th-street-winecellar-new-york-2   \n",
       "976  auQNB6NU6gkL6BrePqyZpQ                       one-twenty-two-new-york   \n",
       "977  ehUuSk5gPTCQmwS_ubgKRA  upstate-craft-beer-and-oyster-bar-new-york-4   \n",
       "978  w6rW21MYzwysEbCTosfD2w                      holyland-market-new-york   \n",
       "979  kPOPOTorOJeYkQNB9AgjkA                             cafe-900-new-york   \n",
       "\n",
       "                                name  \\\n",
       "975            8th Street Winecellar   \n",
       "976                   One Twenty-Two   \n",
       "977  Upstate Craft Beer & Oyster Bar   \n",
       "978                  Holyland Market   \n",
       "979                         Cafe 900   \n",
       "\n",
       "                                             image_url  is_closed  \\\n",
       "975  https://s3-media4.fl.yelpcdn.com/bphoto/IsRfNy...      False   \n",
       "976  https://s3-media3.fl.yelpcdn.com/bphoto/BpnECJ...      False   \n",
       "977  https://s3-media2.fl.yelpcdn.com/bphoto/V3pVDP...      False   \n",
       "978  https://s3-media2.fl.yelpcdn.com/bphoto/lPqA0h...      False   \n",
       "979                                                         False   \n",
       "\n",
       "                                                   url  review_count  \\\n",
       "975  https://www.yelp.com/biz/8th-street-winecellar...           362   \n",
       "976  https://www.yelp.com/biz/one-twenty-two-new-yo...             2   \n",
       "977  https://www.yelp.com/biz/upstate-craft-beer-an...          1964   \n",
       "978  https://www.yelp.com/biz/holyland-market-new-y...            48   \n",
       "979  https://www.yelp.com/biz/cafe-900-new-york?adj...             1   \n",
       "\n",
       "                                            categories  rating  \\\n",
       "975  [{'alias': 'wine_bars', 'title': 'Wine Bars'},...     4.0   \n",
       "976             [{'alias': 'pizza', 'title': 'Pizza'}]     3.5   \n",
       "977         [{'alias': 'seafood', 'title': 'Seafood'}]     4.5   \n",
       "978  [{'alias': 'importedfood', 'title': 'Imported ...     4.5   \n",
       "979     [{'alias': 'coffee', 'title': 'Coffee & Tea'}]     5.0   \n",
       "\n",
       "                                           coordinates  \\\n",
       "975  {'latitude': 40.7327981, 'longitude': -73.9978...   \n",
       "976    {'latitude': 40.72707, 'longitude': -73.985288}   \n",
       "977   {'latitude': 40.726373, 'longitude': -73.986557}   \n",
       "978     {'latitude': 40.72689, 'longitude': -73.98385}   \n",
       "979     {'latitude': 40.75424, 'longitude': -73.96567}   \n",
       "\n",
       "                           transactions price  \\\n",
       "975                          [delivery]    $$   \n",
       "976                                  []    $$   \n",
       "977  [restaurant_reservation, delivery]    $$   \n",
       "978                  [pickup, delivery]    $$   \n",
       "979                                  []   NaN   \n",
       "\n",
       "                                              location         phone  \\\n",
       "975  {'address1': '28 W 8th St', 'address2': '', 'a...  +12122609463   \n",
       "976  {'address1': '122 1st Ave', 'address2': '', 'a...  +12125332809   \n",
       "977  {'address1': '95 1st Ave', 'address2': None, '...  +16467915400   \n",
       "978  {'address1': '122 St Marks Pl', 'address2': ''...  +12124774440   \n",
       "979  {'address1': '900 1st Ave', 'address2': '', 'a...  +12128290721   \n",
       "\n",
       "      display_phone     distance  \n",
       "975  (212) 260-9463  1435.947600  \n",
       "976  (212) 533-2809  1328.572642  \n",
       "977  (646) 791-5400  1425.083020  \n",
       "978  (212) 477-4440  1334.075947  \n",
       "979  (212) 829-0721  2236.335234  "
      ]
     },
     "metadata": {},
     "output_type": "display_data"
    }
   ],
   "source": [
    "#load final results\n",
    "final_df = pd.read_json(JSON_FILE)\n",
    "display(final_df.head(), final_df.tail())"
   ]
  },
  {
   "cell_type": "code",
   "execution_count": 16,
   "id": "217fc189",
   "metadata": {},
   "outputs": [
    {
     "data": {
      "text/plain": [
       "1"
      ]
     },
     "execution_count": 16,
     "metadata": {},
     "output_type": "execute_result"
    }
   ],
   "source": [
    "#check for duplicates\n",
    "final_df.duplicated(subset='id').sum()"
   ]
  },
  {
   "cell_type": "code",
   "execution_count": 17,
   "id": "23837aff",
   "metadata": {},
   "outputs": [
    {
     "data": {
      "text/html": [
       "<div>\n",
       "<style scoped>\n",
       "    .dataframe tbody tr th:only-of-type {\n",
       "        vertical-align: middle;\n",
       "    }\n",
       "\n",
       "    .dataframe tbody tr th {\n",
       "        vertical-align: top;\n",
       "    }\n",
       "\n",
       "    .dataframe thead th {\n",
       "        text-align: right;\n",
       "    }\n",
       "</style>\n",
       "<table border=\"1\" class=\"dataframe\">\n",
       "  <thead>\n",
       "    <tr style=\"text-align: right;\">\n",
       "      <th></th>\n",
       "      <th>id</th>\n",
       "      <th>alias</th>\n",
       "      <th>name</th>\n",
       "      <th>image_url</th>\n",
       "      <th>is_closed</th>\n",
       "      <th>url</th>\n",
       "      <th>review_count</th>\n",
       "      <th>categories</th>\n",
       "      <th>rating</th>\n",
       "      <th>coordinates</th>\n",
       "      <th>transactions</th>\n",
       "      <th>price</th>\n",
       "      <th>location</th>\n",
       "      <th>phone</th>\n",
       "      <th>display_phone</th>\n",
       "      <th>distance</th>\n",
       "    </tr>\n",
       "  </thead>\n",
       "  <tbody>\n",
       "    <tr>\n",
       "      <th>642</th>\n",
       "      <td>Ri67Ia7k0bBmgTCLvlbRBQ</td>\n",
       "      <td>accent-restaurant-and-bar-new-york</td>\n",
       "      <td>Accent Restaurant &amp; Bar</td>\n",
       "      <td>https://s3-media3.fl.yelpcdn.com/bphoto/yeMC-5...</td>\n",
       "      <td>False</td>\n",
       "      <td>https://www.yelp.com/biz/accent-restaurant-and...</td>\n",
       "      <td>66</td>\n",
       "      <td>[{'alias': 'mideastern', 'title': 'Middle East...</td>\n",
       "      <td>4.5</td>\n",
       "      <td>{'latitude': 40.74303, 'longitude': -73.97986}</td>\n",
       "      <td>[pickup, delivery]</td>\n",
       "      <td>NaN</td>\n",
       "      <td>{'address1': '429 3rd Ave', 'address2': '', 'a...</td>\n",
       "      <td>+12126794929</td>\n",
       "      <td>(212) 679-4929</td>\n",
       "      <td>524.80998</td>\n",
       "    </tr>\n",
       "  </tbody>\n",
       "</table>\n",
       "</div>"
      ],
      "text/plain": [
       "                         id                               alias  \\\n",
       "642  Ri67Ia7k0bBmgTCLvlbRBQ  accent-restaurant-and-bar-new-york   \n",
       "\n",
       "                        name  \\\n",
       "642  Accent Restaurant & Bar   \n",
       "\n",
       "                                             image_url  is_closed  \\\n",
       "642  https://s3-media3.fl.yelpcdn.com/bphoto/yeMC-5...      False   \n",
       "\n",
       "                                                   url  review_count  \\\n",
       "642  https://www.yelp.com/biz/accent-restaurant-and...            66   \n",
       "\n",
       "                                            categories  rating  \\\n",
       "642  [{'alias': 'mideastern', 'title': 'Middle East...     4.5   \n",
       "\n",
       "                                        coordinates        transactions price  \\\n",
       "642  {'latitude': 40.74303, 'longitude': -73.97986}  [pickup, delivery]   NaN   \n",
       "\n",
       "                                              location         phone  \\\n",
       "642  {'address1': '429 3rd Ave', 'address2': '', 'a...  +12126794929   \n",
       "\n",
       "      display_phone   distance  \n",
       "642  (212) 679-4929  524.80998  "
      ]
     },
     "execution_count": 17,
     "metadata": {},
     "output_type": "execute_result"
    }
   ],
   "source": [
    "final_df[final_df.duplicated(subset='id')]"
   ]
  },
  {
   "cell_type": "code",
   "execution_count": 19,
   "id": "00fe1d6f",
   "metadata": {},
   "outputs": [],
   "source": [
    "#drop the duplicates\n",
    "final_df = final_df.drop_duplicates(subset='id')"
   ]
  },
  {
   "cell_type": "code",
   "execution_count": 20,
   "id": "f5f5ffb9",
   "metadata": {},
   "outputs": [
    {
     "data": {
      "text/plain": [
       "0"
      ]
     },
     "execution_count": 20,
     "metadata": {},
     "output_type": "execute_result"
    }
   ],
   "source": [
    "#make sure duplicates were dropped\n",
    "final_df.duplicated(subset='id').sum()"
   ]
  },
  {
   "cell_type": "code",
   "execution_count": 21,
   "id": "7aea1874",
   "metadata": {},
   "outputs": [],
   "source": [
    "#save the final results to a compressed csv\n",
    "final_df.to_csv('Data/Final_results_pizza.csv.gz', \n",
    "               compression = 'gzip', index=False)"
   ]
  }
 ],
 "metadata": {
  "kernelspec": {
   "display_name": "Python (dojo-env)",
   "language": "python",
   "name": "dojo-env"
  },
  "language_info": {
   "codemirror_mode": {
    "name": "ipython",
    "version": 3
   },
   "file_extension": ".py",
   "mimetype": "text/x-python",
   "name": "python",
   "nbconvert_exporter": "python",
   "pygments_lexer": "ipython3",
   "version": "3.7.12"
  },
  "toc": {
   "base_numbering": 1,
   "nav_menu": {},
   "number_sections": false,
   "sideBar": true,
   "skip_h1_title": false,
   "title_cell": "Table of Contents",
   "title_sidebar": "Contents",
   "toc_cell": false,
   "toc_position": {},
   "toc_section_display": true,
   "toc_window_display": false
  }
 },
 "nbformat": 4,
 "nbformat_minor": 5
}
